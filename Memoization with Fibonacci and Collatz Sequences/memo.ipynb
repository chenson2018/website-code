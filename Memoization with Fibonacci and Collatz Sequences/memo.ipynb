{
 "cells": [
  {
   "cell_type": "markdown",
   "metadata": {},
   "source": [
    "Naive Implementation of Fibonacci Sequence:"
   ]
  },
  {
   "cell_type": "code",
   "execution_count": 8,
   "metadata": {},
   "outputs": [],
   "source": [
    "from time import time  "
   ]
  },
  {
   "cell_type": "code",
   "execution_count": 2,
   "metadata": {},
   "outputs": [],
   "source": [
    "def fib(n):\n",
    "    if n == 0:\n",
    "        return 0\n",
    "    elif n == 1:\n",
    "        return 1\n",
    "    else:\n",
    "        return fib(n-1) + fib(n-2)"
   ]
  },
  {
   "cell_type": "markdown",
   "metadata": {},
   "source": [
    "This commented code takes a bit to run. I saved the times from my dektop to a pickle file"
   ]
  },
  {
   "cell_type": "code",
   "execution_count": 3,
   "metadata": {},
   "outputs": [],
   "source": [
    "# times = []\n",
    "\n",
    "# for n in range(50):\n",
    "#     start = time()\n",
    "#     fib(n)    \n",
    "#     stop = time()\n",
    "#     duration = stop-start\n",
    "#     times.append((n, duration))"
   ]
  },
  {
   "cell_type": "code",
   "execution_count": 4,
   "metadata": {},
   "outputs": [],
   "source": [
    "import pickle\n",
    "\n",
    "#switch which line is commented if you want to get your own times\n",
    "#should take around an hour\n",
    "\n",
    "#pickle.dump( times, open( \"fib_naive_time.p\", \"wb\" ) )\n",
    "times = pickle.load( open( \"fib_naive_time.p\", \"rb\" ) )"
   ]
  },
  {
   "cell_type": "code",
   "execution_count": 5,
   "metadata": {},
   "outputs": [
    {
     "data": {
      "image/png": "[encoded data removed]",
      "text/plain": [
       "<Figure size 432x288 with 1 Axes>"
      ]
     },
     "metadata": {
      "needs_background": "light"
     },
     "output_type": "display_data"
    }
   ],
   "source": [
    "import matplotlib.pyplot as plt\n",
    "%matplotlib inline\n",
    "\n",
    "plt.plot(*zip(*times))\n",
    "plt.title(\"Naive Fibbonacci Implementation\")\n",
    "plt.xlabel(\"Index\")\n",
    "plt.ylabel(\"Time (seconds)\")\n",
    "plt.savefig(\"fib_time.png\", dpi=600)\n",
    "plt.show()"
   ]
  },
  {
   "cell_type": "markdown",
   "metadata": {},
   "source": [
    "Memoized Version"
   ]
  },
  {
   "cell_type": "code",
   "execution_count": 9,
   "metadata": {},
   "outputs": [],
   "source": [
    "class Memoize:\n",
    "    def __init__(self, fn):\n",
    "        self.fn = fn\n",
    "        self.memo = {}\n",
    "\n",
    "    def __call__(self, *args):\n",
    "        if args not in self.memo:\n",
    "            self.memo[args] = self.fn(*args)\n",
    "        return self.memo[args]"
   ]
  },
  {
   "cell_type": "code",
   "execution_count": 2,
   "metadata": {},
   "outputs": [],
   "source": [
    "def fib(n):\n",
    "    if n == 0:\n",
    "        return 0\n",
    "    elif n == 1:\n",
    "        return 1\n",
    "    else:\n",
    "        return fib(n-1) + fib(n-2)\n",
    "\n",
    "fib = Memoize(fib)"
   ]
  },
  {
   "cell_type": "markdown",
   "metadata": {},
   "source": [
    "Example of what is stored:"
   ]
  },
  {
   "cell_type": "code",
   "execution_count": 3,
   "metadata": {},
   "outputs": [
    {
     "data": {
      "text/plain": [
       "3"
      ]
     },
     "execution_count": 3,
     "metadata": {},
     "output_type": "execute_result"
    }
   ],
   "source": [
    "fib(4)"
   ]
  },
  {
   "cell_type": "code",
   "execution_count": 5,
   "metadata": {},
   "outputs": [
    {
     "name": "stdout",
     "output_type": "stream",
     "text": [
      "{(1,): 1, (0,): 0, (2,): 1, (3,): 2, (4,): 3}\n"
     ]
    }
   ],
   "source": [
    "print(fib.memo)"
   ]
  },
  {
   "cell_type": "code",
   "execution_count": 10,
   "metadata": {},
   "outputs": [
    {
     "name": "stdout",
     "output_type": "stream",
     "text": [
      "291 ms ± 7.94 ms per loop (mean ± std. dev. of 7 runs, 1 loop each)\n"
     ]
    }
   ],
   "source": [
    "%%timeit\n",
    "@Memoize\n",
    "def fib(n):\n",
    "    if n == 0:\n",
    "        return 0\n",
    "    elif n == 1:\n",
    "        return 1\n",
    "    else:\n",
    "        return fib(n-1) + fib(n-2)\n",
    "\n",
    "times = []\n",
    "\n",
    "for n in range(100000):\n",
    "    start = time()\n",
    "    fib(n)    \n",
    "    stop = time()\n",
    "    duration = stop-start\n",
    "    times.append((n, duration))"
   ]
  },
  {
   "cell_type": "code",
   "execution_count": 10,
   "metadata": {},
   "outputs": [],
   "source": [
    "@Memoize\n",
    "def fib(n):\n",
    "    if n == 0:\n",
    "        return 0\n",
    "    elif n == 1:\n",
    "        return 1\n",
    "    else:\n",
    "        return fib(n-1) + fib(n-2)\n",
    "\n",
    "times = []\n",
    "\n",
    "for n in range(100000):\n",
    "    start = time()\n",
    "    fib(n)    \n",
    "    stop = time()\n",
    "    duration = stop-start\n",
    "    times.append((n, duration))"
   ]
  },
  {
   "cell_type": "markdown",
   "metadata": {},
   "source": [
    "A large Fibonacci number:"
   ]
  },
  {
   "cell_type": "code",
   "execution_count": 19,
   "metadata": {
    "scrolled": false
   },
   "outputs": [
    {
     "data": {
      "text/plain": [
       "20899"
      ]
     },
     "execution_count": 19,
     "metadata": {},
     "output_type": "execute_result"
    }
   ],
   "source": [
    "len(str(fib.memo[(99999,)]))"
   ]
  },
  {
   "cell_type": "markdown",
   "metadata": {},
   "source": [
    "Naive Implementation of Collatz Sequence:"
   ]
  },
  {
   "cell_type": "code",
   "execution_count": 1,
   "metadata": {},
   "outputs": [],
   "source": [
    "def collatz(n):\n",
    "    if n == 1:\n",
    "        return 1\n",
    "    elif n % 2 == 0:\n",
    "        return n//2\n",
    "    else:\n",
    "        return 3*n + 1\n",
    "    \n",
    "def collatz_sequence(n):\n",
    "    sequence = [n]\n",
    "    \n",
    "    while 1 not in sequence:\n",
    "        n = collatz(n)\n",
    "        sequence.append(n)\n",
    "        \n",
    "    return sequence"
   ]
  },
  {
   "cell_type": "code",
   "execution_count": 45,
   "metadata": {},
   "outputs": [
    {
     "data": {
      "text/plain": [
       "[7, 22, 11, 34, 17, 52, 26, 13, 40, 20, 10, 5, 16, 8, 4, 2, 1]"
      ]
     },
     "execution_count": 45,
     "metadata": {},
     "output_type": "execute_result"
    }
   ],
   "source": [
    "collatz_sequence(7)"
   ]
  },
  {
   "cell_type": "code",
   "execution_count": 14,
   "metadata": {},
   "outputs": [
    {
     "name": "stdout",
     "output_type": "stream",
     "text": [
      "Wall time: 1min 38s\n"
     ]
    }
   ],
   "source": [
    "%%time\n",
    "lengths = [collatz_sequence(n) for n in range(1, 1000000)]"
   ]
  },
  {
   "cell_type": "code",
   "execution_count": 15,
   "metadata": {},
   "outputs": [
    {
     "data": {
      "text/plain": [
       "837798"
      ]
     },
     "execution_count": 15,
     "metadata": {},
     "output_type": "execute_result"
    }
   ],
   "source": [
    "lengths.index(max(lengths))"
   ]
  },
  {
   "cell_type": "markdown",
   "metadata": {},
   "source": [
    "Memoized version:"
   ]
  },
  {
   "cell_type": "code",
   "execution_count": 13,
   "metadata": {},
   "outputs": [],
   "source": [
    "class Memoize:\n",
    "    def __init__(self, fn):\n",
    "        self.fn = fn\n",
    "        self.memo = {}\n",
    "\n",
    "    def __call__(self, *args):\n",
    "        self.fn(*args, self.memo)"
   ]
  },
  {
   "cell_type": "markdown",
   "metadata": {},
   "source": [
    "Version 1:"
   ]
  },
  {
   "cell_type": "code",
   "execution_count": 5,
   "metadata": {},
   "outputs": [
    {
     "name": "stdout",
     "output_type": "stream",
     "text": [
      "{1: 1, 2: 2, 3: 8, 4: 3, 5: 6, 6: 9, 7: 17, 8: 4, 9: 20, 10: 7, 11: 15, 12: 10, 13: 10}\n"
     ]
    }
   ],
   "source": [
    "@Memoize\n",
    "def collatz_sequence(n, cache):\n",
    "    if n == 1:\n",
    "        cache[n] = 1\n",
    "        return 1\n",
    "    \n",
    "    copy = n\n",
    "    sequence = [n]\n",
    "    \n",
    "    while 1 not in sequence:\n",
    "        n = collatz(n)\n",
    "        if n in cache:\n",
    "            cache[copy] = len(sequence) + cache[n]\n",
    "            break\n",
    "        else:\n",
    "            sequence.append(n)\n",
    "\n",
    "for n in range(1, 14):\n",
    "    collatz_sequence(n)\n",
    "\n",
    "\n",
    "print(collatz_sequence.memo)"
   ]
  },
  {
   "cell_type": "code",
   "execution_count": 10,
   "metadata": {},
   "outputs": [
    {
     "name": "stdout",
     "output_type": "stream",
     "text": [
      "2.58 s ± 85.2 ms per loop (mean ± std. dev. of 7 runs, 1 loop each)\n"
     ]
    }
   ],
   "source": [
    "%%timeit\n",
    "@Memoize\n",
    "def collatz_sequence(n, cache):\n",
    "    if n == 1:\n",
    "        cache[n] = 1\n",
    "        return 1\n",
    "    \n",
    "    copy = n\n",
    "    sequence = [n]\n",
    "    \n",
    "    while 1 not in sequence:\n",
    "        n = collatz(n)\n",
    "        if n in cache:\n",
    "            cache[copy] = len(sequence) + cache[n]\n",
    "            break\n",
    "        else:\n",
    "            sequence.append(n)\n",
    "        \n",
    "    return len(sequence)\n",
    "\n",
    "for n in range(1, 1000000):\n",
    "    collatz_sequence(n)"
   ]
  },
  {
   "cell_type": "code",
   "execution_count": 37,
   "metadata": {},
   "outputs": [],
   "source": [
    "@Memoize\n",
    "def collatz_sequence(n, cache):\n",
    "    if n == 1:\n",
    "        cache[n] = 1\n",
    "        return 1\n",
    "    \n",
    "    copy = n\n",
    "    sequence = [n]\n",
    "    \n",
    "    while 1 not in sequence:\n",
    "        n = collatz(n)\n",
    "        if n in cache:\n",
    "            cache[copy] = len(sequence) + cache[n]\n",
    "            break\n",
    "        else:\n",
    "            sequence.append(n)\n",
    "\n",
    "for n in range(1, 1000000):\n",
    "    collatz_sequence(n)"
   ]
  },
  {
   "cell_type": "markdown",
   "metadata": {},
   "source": [
    "Check that our answer is the same:"
   ]
  },
  {
   "cell_type": "code",
   "execution_count": 38,
   "metadata": {},
   "outputs": [
    {
     "data": {
      "text/plain": [
       "837799"
      ]
     },
     "execution_count": 38,
     "metadata": {},
     "output_type": "execute_result"
    }
   ],
   "source": [
    "import operator\n",
    "max(collatz_sequence.memo.items(), key=operator.itemgetter(1))[0]"
   ]
  },
  {
   "cell_type": "code",
   "execution_count": 28,
   "metadata": {},
   "outputs": [
    {
     "data": {
      "text/plain": [
       "525"
      ]
     },
     "execution_count": 28,
     "metadata": {},
     "output_type": "execute_result"
    }
   ],
   "source": [
    "collatz_sequence.memo[837799]"
   ]
  },
  {
   "cell_type": "markdown",
   "metadata": {},
   "source": [
    "Version 2:"
   ]
  },
  {
   "cell_type": "code",
   "execution_count": 8,
   "metadata": {},
   "outputs": [
    {
     "data": {
      "text/plain": [
       "{1: 1,\n",
       " 2: 2,\n",
       " 3: 8,\n",
       " 4: 3,\n",
       " 8: 4,\n",
       " 16: 5,\n",
       " 5: 6,\n",
       " 10: 7,\n",
       " 6: 9,\n",
       " 7: 17,\n",
       " 20: 8,\n",
       " 40: 9,\n",
       " 13: 10,\n",
       " 26: 11,\n",
       " 52: 12,\n",
       " 17: 13,\n",
       " 34: 14,\n",
       " 11: 15,\n",
       " 22: 16,\n",
       " 9: 20,\n",
       " 14: 18,\n",
       " 28: 19,\n",
       " 12: 10}"
      ]
     },
     "execution_count": 8,
     "metadata": {},
     "output_type": "execute_result"
    }
   ],
   "source": [
    "@Memoize\n",
    "def collatz_sequence(n, cache):\n",
    "    if n == 1:\n",
    "        cache[n] = 1\n",
    "        return 1\n",
    "    \n",
    "    copy = n\n",
    "    sequence = [n]\n",
    "    \n",
    "    while 1 not in sequence:\n",
    "        n = collatz(n)\n",
    "        if n in cache:\n",
    "            cache[copy] = len(sequence) + cache[n]\n",
    "            break\n",
    "        else:\n",
    "            sequence.append(n)\n",
    "\n",
    "    for index, value in enumerate(sequence[::-1]):\n",
    "        cache[value] = cache[n] + index + 1\n",
    "            \n",
    "for n in range(1, 14):\n",
    "    collatz_sequence(n)\n",
    "    \n",
    "collatz_sequence.memo"
   ]
  },
  {
   "cell_type": "code",
   "execution_count": 16,
   "metadata": {},
   "outputs": [
    {
     "name": "stdout",
     "output_type": "stream",
     "text": [
      "2.03 s ± 16.5 ms per loop (mean ± std. dev. of 7 runs, 1 loop each)\n"
     ]
    }
   ],
   "source": [
    "%%timeit\n",
    "\n",
    "@Memoize\n",
    "def collatz_sequence(n, cache):\n",
    "    if n == 1:\n",
    "        cache[n] = 1\n",
    "        return 1\n",
    "    \n",
    "    copy = n\n",
    "    sequence = [n]\n",
    "    \n",
    "    while 1 not in sequence:\n",
    "        n = collatz(n)\n",
    "        if n in cache:\n",
    "            cache[copy] = len(sequence) + cache[n]\n",
    "            break\n",
    "        else:\n",
    "            sequence.append(n)\n",
    "\n",
    "    for index, value in enumerate(sequence[::-1]):\n",
    "        cache[value] = cache[n] + index + 1\n",
    "\n",
    "for n in range(1, 1000000):\n",
    "    collatz_sequence(n)"
   ]
  },
  {
   "cell_type": "code",
   "execution_count": 14,
   "metadata": {},
   "outputs": [],
   "source": [
    "@Memoize\n",
    "def collatz_sequence(n, cache):\n",
    "    if n == 1:\n",
    "        cache[n] = 1\n",
    "        return 1\n",
    "    \n",
    "    copy = n\n",
    "    sequence = [n]\n",
    "    \n",
    "    while 1 not in sequence:\n",
    "        n = collatz(n)\n",
    "        if n in cache:\n",
    "            cache[copy] = len(sequence) + cache[n]\n",
    "            break\n",
    "        else:\n",
    "            sequence.append(n)\n",
    "\n",
    "    for index, value in enumerate(sequence[::-1]):\n",
    "        cache[value] = cache[n] + index + 1\n",
    "\n",
    "for n in range(1, 1000000):\n",
    "    collatz_sequence(n)"
   ]
  },
  {
   "cell_type": "code",
   "execution_count": 15,
   "metadata": {},
   "outputs": [
    {
     "data": {
      "text/plain": [
       "837799"
      ]
     },
     "execution_count": 15,
     "metadata": {},
     "output_type": "execute_result"
    }
   ],
   "source": [
    "import operator\n",
    "max(collatz_sequence.memo.items(), key=operator.itemgetter(1))[0]"
   ]
  }
 ],
 "metadata": {
  "kernelspec": {
   "display_name": "Python 3",
   "language": "python",
   "name": "python3"
  },
  "language_info": {
   "codemirror_mode": {
    "name": "ipython",
    "version": 3
   },
   "file_extension": ".py",
   "mimetype": "text/x-python",
   "name": "python",
   "nbconvert_exporter": "python",
   "pygments_lexer": "ipython3",
   "version": "3.7.1"
  }
 },
 "nbformat": 4,
 "nbformat_minor": 2
}
