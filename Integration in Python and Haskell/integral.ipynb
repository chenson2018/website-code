{
 "cells": [
  {
   "cell_type": "code",
   "execution_count": 1,
   "metadata": {},
   "outputs": [],
   "source": [
    "import numpy as np\n",
    "\n",
    "def darboux(f, a, b, epsilon, precision, increment=1, n=1):\n",
    "    record = []\n",
    "    \n",
    "    while True:\n",
    "        upper_terms = []\n",
    "        lower_terms = []\n",
    "\n",
    "        partition = np.linspace(a, b, n+1)\n",
    "        delta = partition[1] - partition[0]\n",
    "\n",
    "        for i in range(len(partition)-1):\n",
    "            lower, upper = partition[i], partition[i+1]\n",
    "            \n",
    "            options = np.linspace(lower, upper, precision)\n",
    "            values = list(map(f, options))\n",
    "            \n",
    "            upper_terms.append(max(values)*delta)\n",
    "            lower_terms.append(min(values)*delta)\n",
    "\n",
    "        upper_sum = sum(upper_terms)\n",
    "        lower_sum = sum(lower_terms)\n",
    "\n",
    "        record.append((lower_sum, upper_sum, n))\n",
    "        \n",
    "        e = upper_sum - lower_sum\n",
    "        \n",
    "        if e < epsilon:\n",
    "            return record\n",
    "        else:\n",
    "            n+= increment"
   ]
  },
  {
   "cell_type": "code",
   "execution_count": 2,
   "metadata": {},
   "outputs": [
    {
     "name": "stdout",
     "output_type": "stream",
     "text": [
      "(0.0, 1.0, 1)\n",
      "(0.125, 0.625, 2)\n",
      "(0.18518518518518517, 0.5185185185185185, 3)\n",
      "(0.21875, 0.46875, 4)\n",
      "(0.24000000000000005, 0.44000000000000006, 5)\n",
      "(0.2546296296296296, 0.4212962962962963, 6)\n",
      "(0.26530612244897955, 0.4081632653061224, 7)\n",
      "(0.2734375, 0.3984375, 8)\n",
      "(0.279835390946502, 0.3909465020576131, 9)\n",
      "(0.2850000000000001, 0.3850000000000001, 10)\n",
      "(0.2892561983471075, 0.3801652892561984, 11)\n"
     ]
    }
   ],
   "source": [
    "d = darboux(lambda x: x**2, a=0, b=1, epsilon=.1, precision=5)\n",
    "\n",
    "for iteration in d: \n",
    "    print(iteration)"
   ]
  },
  {
   "cell_type": "code",
   "execution_count": 3,
   "metadata": {},
   "outputs": [
    {
     "name": "stdout",
     "output_type": "stream",
     "text": [
      "(32.575070693947964, 32.67495387151806, 214)\n",
      "Wall time: 587 ms\n"
     ]
    }
   ],
   "source": [
    "%%time\n",
    "d = darboux(lambda x: (x**2+2*x), \n",
    "            a=3, b=4.5, \n",
    "            epsilon=.1, \n",
    "            precision=5, \n",
    "            increment=1)\n",
    "\n",
    "print(d[-1])"
   ]
  },
  {
   "cell_type": "code",
   "execution_count": 4,
   "metadata": {},
   "outputs": [
    {
     "name": "stdout",
     "output_type": "stream",
     "text": [
      "(32.62450293126423, 32.625497071071685, 21501)\n",
      "Wall time: 11.4 s\n"
     ]
    }
   ],
   "source": [
    "%%time\n",
    "d = darboux(lambda x: (x**2+2*x), \n",
    "            a=3, b=4.5, \n",
    "            epsilon=.001, \n",
    "            precision=5, \n",
    "            increment=500)\n",
    "\n",
    "print(d[-1])"
   ]
  },
  {
   "cell_type": "code",
   "execution_count": 5,
   "metadata": {},
   "outputs": [
    {
     "data": {
      "image/png": "[encoded data removed]",
      "text/plain": [
       "<Figure size 432x288 with 1 Axes>"
      ]
     },
     "metadata": {
      "needs_background": "light"
     },
     "output_type": "display_data"
    }
   ],
   "source": [
    "import matplotlib.pyplot as plt\n",
    "%matplotlib inline\n",
    "\n",
    "d = darboux(lambda x: (x**2+2*x), \n",
    "            a=3, b=4.5, \n",
    "            epsilon=.001, \n",
    "            precision=5, \n",
    "            increment=500, n=200)\n",
    "\n",
    "lower, upper, n = zip(*d)\n",
    "plt.plot(n, lower, label = 'Lower Summation')\n",
    "plt.plot(n, upper, label = 'Upper Summation')\n",
    "plt.legend()\n",
    "plt.title(r\"Darboux Summation of $x^2+2x$\")\n",
    "plt.xlabel('Number of Subintervals')\n",
    "plt.ylabel('Summation Value')\n",
    "plt.savefig('darboux.png', dpi=600)\n",
    "plt.show()"
   ]
  }
 ],
 "metadata": {
  "kernelspec": {
   "display_name": "Python 3",
   "language": "python",
   "name": "python3"
  },
  "language_info": {
   "codemirror_mode": {
    "name": "ipython",
    "version": 3
   },
   "file_extension": ".py",
   "mimetype": "text/x-python",
   "name": "python",
   "nbconvert_exporter": "python",
   "pygments_lexer": "ipython3",
   "version": "3.7.1"
  }
 },
 "nbformat": 4,
 "nbformat_minor": 2
}
